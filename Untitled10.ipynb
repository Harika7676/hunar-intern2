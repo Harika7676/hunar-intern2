{
 "cells": [
  {
   "cell_type": "code",
   "execution_count": 3,
   "id": "c330273f-d959-42fe-a39a-21cca655097b",
   "metadata": {},
   "outputs": [
    {
     "name": "stdout",
     "output_type": "stream",
     "text": [
      "<class 'pandas.core.frame.DataFrame'>\n",
      "RangeIndex: 4600 entries, 0 to 4599\n",
      "Data columns (total 18 columns):\n",
      " #   Column         Non-Null Count  Dtype  \n",
      "---  ------         --------------  -----  \n",
      " 0   date           4600 non-null   object \n",
      " 1   price          4600 non-null   float64\n",
      " 2   bedrooms       4600 non-null   float64\n",
      " 3   bathrooms      4600 non-null   float64\n",
      " 4   sqft_living    4600 non-null   int64  \n",
      " 5   sqft_lot       4600 non-null   int64  \n",
      " 6   floors         4600 non-null   float64\n",
      " 7   waterfront     4600 non-null   int64  \n",
      " 8   view           4600 non-null   int64  \n",
      " 9   condition      4600 non-null   int64  \n",
      " 10  sqft_above     4600 non-null   int64  \n",
      " 11  sqft_basement  4600 non-null   int64  \n",
      " 12  yr_built       4600 non-null   int64  \n",
      " 13  yr_renovated   4600 non-null   int64  \n",
      " 14  street         4600 non-null   object \n",
      " 15  city           4600 non-null   object \n",
      " 16  statezip       4600 non-null   object \n",
      " 17  country        4600 non-null   object \n",
      "dtypes: float64(4), int64(9), object(5)\n",
      "memory usage: 647.0+ KB\n"
     ]
    },
    {
     "data": {
      "text/plain": [
       "(                  date      price  bedrooms  bathrooms  sqft_living  sqft_lot  \\\n",
       " 0  2014-05-02 00:00:00   313000.0       3.0       1.50         1340      7912   \n",
       " 1  2014-05-02 00:00:00  2384000.0       5.0       2.50         3650      9050   \n",
       " 2  2014-05-02 00:00:00   342000.0       3.0       2.00         1930     11947   \n",
       " 3  2014-05-02 00:00:00   420000.0       3.0       2.25         2000      8030   \n",
       " 4  2014-05-02 00:00:00   550000.0       4.0       2.50         1940     10500   \n",
       " \n",
       "    floors  waterfront  view  condition  sqft_above  sqft_basement  yr_built  \\\n",
       " 0     1.5           0     0          3        1340              0      1955   \n",
       " 1     2.0           0     4          5        3370            280      1921   \n",
       " 2     1.0           0     0          4        1930              0      1966   \n",
       " 3     1.0           0     0          4        1000           1000      1963   \n",
       " 4     1.0           0     0          4        1140            800      1976   \n",
       " \n",
       "    yr_renovated                    street       city  statezip country  \n",
       " 0          2005      18810 Densmore Ave N  Shoreline  WA 98133     USA  \n",
       " 1             0           709 W Blaine St    Seattle  WA 98119     USA  \n",
       " 2             0  26206-26214 143rd Ave SE       Kent  WA 98042     USA  \n",
       " 3             0           857 170th Pl NE   Bellevue  WA 98008     USA  \n",
       " 4          1992         9105 170th Ave NE    Redmond  WA 98052     USA  ,\n",
       " None)"
      ]
     },
     "execution_count": 3,
     "metadata": {},
     "output_type": "execute_result"
    }
   ],
   "source": [
    "import pandas as pd\n",
    "file_path = '/mnt/data/house price data.csv'\n",
    "df = pd.read_csv(\"C:/Users/harik/OneDrive/Desktop/project/house price data.csv\")\n",
    "df.head(), df.info()"
   ]
  },
  {
   "cell_type": "code",
   "execution_count": 5,
   "id": "816077ca-8b79-44f0-8220-51efac1133ee",
   "metadata": {},
   "outputs": [
    {
     "data": {
      "text/plain": [
       "((3680, 17), (920, 17), (3680,), (920,))"
      ]
     },
     "execution_count": 5,
     "metadata": {},
     "output_type": "execute_result"
    }
   ],
   "source": [
    "df_cleaned = df.drop_duplicates()\n",
    "X = df_cleaned.drop(columns=['price'])\n",
    "y = df_cleaned['price']\n",
    "from sklearn.model_selection import train_test_split\n",
    "X_train, X_test, y_train, y_test = train_test_split(X, y, test_size=0.2, random_state=42)\n",
    "X_train.shape, X_test.shape, y_train.shape, y_test.shape"
   ]
  },
  {
   "cell_type": "code",
   "execution_count": 9,
   "id": "3bfac383-dac2-427e-87ef-39c65b06401c",
   "metadata": {},
   "outputs": [
    {
     "data": {
      "text/plain": [
       "(986921767056.1471, 0.03228385663275535)"
      ]
     },
     "execution_count": 9,
     "metadata": {},
     "output_type": "execute_result"
    }
   ],
   "source": [
    "# Drop non-numeric columns\n",
    "X_train_numeric = X_train.drop(columns=['date', 'street', 'city', 'statezip', 'country'])\n",
    "X_test_numeric = X_test.drop(columns=['date', 'street', 'city', 'statezip', 'country'])\n",
    "\n",
    "# Re-train the linear regression model with numeric data only\n",
    "model.fit(X_train_numeric, y_train)\n",
    "\n",
    "# Predict on the numeric testing set\n",
    "y_pred = model.predict(X_test_numeric)\n",
    "\n",
    "# Calculate accuracy metrics\n",
    "mse = mean_squared_error(y_test, y_pred)\n",
    "r2 = r2_score(y_test, y_pred)\n",
    "\n",
    "mse, r2\n"
   ]
  },
  {
   "cell_type": "code",
   "execution_count": 37,
   "id": "6e254087-649c-4873-aafb-b89c7f8da1b4",
   "metadata": {},
   "outputs": [],
   "source": [
    "import pandas as pd\n",
    "from sklearn.metrics import mean_absolute_error\n",
    "\n",
    "# Load the test dataset\n",
    "test_data = pd.read_csv(\"C:/Users/harik/OneDrive/Desktop/project/house price data.csv\")  # Replace with your actual test dataset path\n",
    "\n",
    "# Preprocess the test data (drop or transform columns as done for the training data)\n",
    "test_data_cleaned = test_data.drop(columns=['date', 'street', 'city', 'statezip', 'country'])\n",
    "\n",
    "# Separate features (X_test) and target (y_test) in the test dataset\n",
    "X_test = test_data_cleaned.drop(columns=['price'])\n",
    "y_test = test_data_cleaned['price']\n"
   ]
  },
  {
   "cell_type": "code",
   "execution_count": 55,
   "id": "c4523a80-7f9b-4c9b-87bb-c10ddc3f8152",
   "metadata": {},
   "outputs": [],
   "source": [
    "from sklearn.model_selection import cross_val_score\n",
    "import numpy as np\n",
    "\n",
    "# Initialize the model\n",
    "model = LinearRegression()\n",
    "\n"
   ]
  }
 ],
 "metadata": {
  "kernelspec": {
   "display_name": "Python 3 (ipykernel)",
   "language": "python",
   "name": "python3"
  },
  "language_info": {
   "codemirror_mode": {
    "name": "ipython",
    "version": 3
   },
   "file_extension": ".py",
   "mimetype": "text/x-python",
   "name": "python",
   "nbconvert_exporter": "python",
   "pygments_lexer": "ipython3",
   "version": "3.12.4"
  }
 },
 "nbformat": 4,
 "nbformat_minor": 5
}
